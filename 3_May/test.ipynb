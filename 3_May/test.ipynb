{
 "cells": [
  {
   "cell_type": "code",
   "execution_count": 1,
   "metadata": {},
   "outputs": [],
   "source": [
    "# node class\n",
    "class Node:\n",
    "    # default value of data and link is none if no data is passed\n",
    "    def __init__(self, data=None, link=None):\n",
    "        self.data = data\n",
    "        self.link = link\n",
    "\n",
    "    # method to update the data feild of Node\n",
    "    def updateData(self, data):\n",
    "        self.data = data\n",
    "\n",
    "    # method to set Link feild the Node\n",
    "    def setLink(self, node):\n",
    "        self.link = node\n",
    "\n",
    "    # method returns data feild of the Node\n",
    "    def getData(self):\n",
    "        return self.data\n",
    "\n",
    "    # method returns address of the next Node\n",
    "    def getNextNode(self):\n",
    "        return self.link"
   ]
  },
  {
   "cell_type": "code",
   "execution_count": 2,
   "metadata": {},
   "outputs": [],
   "source": [
    "class LinkedList:\n",
    "    def __init__(self):\n",
    "        self.head = None\n",
    "\n",
    "    # method adds elements to the left of the Linked List\n",
    "    def addToStart(self, data):\n",
    "        # create a temporary node\n",
    "        tempNode = Node(data)\n",
    "        tempNode.setLink(self.head)\n",
    "        self.head = tempNode\n",
    "        del tempNode\n",
    "\n",
    "    # method adds elements to the right of the Linked List\n",
    "    def addToEnd(self, data):\n",
    "        start = self.head\n",
    "        tempNode = Node(data)\n",
    "        while start.getNextNode():\n",
    "            start = start.getNextNode()\n",
    "        start.setLink(tempNode)\n",
    "        del tempNode\n",
    "        return True\n",
    "\n",
    "    # method displays Linked List\n",
    "    def display(self):\n",
    "        start = self.head\n",
    "        if start is None:\n",
    "            print(\"Empty List!!!\")\n",
    "            return False\n",
    "\n",
    "        while start:\n",
    "            print(str(start.getData()), end=\" \")\n",
    "            start = start.link\n",
    "            if start:\n",
    "                print(\"-->\", end=\" \")\n",
    "        print()\n",
    "\n",
    "    # method returns length of linked list\n",
    "    def length(self):\n",
    "        start = self.head\n",
    "        size = 0\n",
    "        while start:\n",
    "            size += 1\n",
    "            start = start.getNextNode()\n",
    "        # print(size)\n",
    "        return size\n",
    "\n",
    "    # method returns index of the recieved data\n",
    "    def index(self, data):\n",
    "        start = self.head\n",
    "        position = 1\n",
    "\n",
    "        while start:\n",
    "            if start.getData() == data:\n",
    "                return position\n",
    "            else:\n",
    "                position += 1\n",
    "                start = start.getNextNode()\n",
    "\n",
    "\n",
    "    # method removes item passed from the Linked List\n",
    "    def remove(self, item):\n",
    "        start = self.head\n",
    "        previous = None\n",
    "        found = False\n",
    "\n",
    "        # search element in list\n",
    "        while not found:\n",
    "            if start.getData() == item:\n",
    "                found = True\n",
    "            else:\n",
    "                previous = start\n",
    "                start = start.getNextNode()\n",
    "\n",
    "        # if previous is None then the data is found at first position\n",
    "        if previous is None:\n",
    "            self.head = start.getNextNode()\n",
    "        else:\n",
    "            previous.setLink(start.getNextNode())\n",
    "        return found\n",
    "    # method for adding the elements of list2 to the list 1\n",
    "    def addAll(self, list):\n",
    "        flag=False\n",
    "        for i in list.toList():\n",
    "            if isinstance(self.index(i),int):\n",
    "                pass\n",
    "            else:\n",
    "                self.addToEnd(i)\n",
    "                flag=True\n",
    "        return flag\n",
    "    # method for removing the elements of list2 from the list 1\n",
    "    def removeAll(self,list):\n",
    "        flag=False\n",
    "        for i in list.toList():\n",
    "            if isinstance(self.index(i),int):\n",
    "                self.remove(i)\n",
    "                flag=True\n",
    "        return flag\n",
    "\n",
    "    def retainAll(self,list):\n",
    "        flag=False\n",
    "        for i in list.toList():\n",
    "            if isinstance(self.index(i),int):\n",
    "                pass\n",
    "            else:\n",
    "                self.addToEnd(i)\n",
    "                flag=True\n",
    "        return flag\n",
    "    # method returns max element from the List\n",
    "    def Max(self):\n",
    "        start = self.head\n",
    "        largest = start.getData()\n",
    "        while start:\n",
    "            if largest < start.getData():\n",
    "                largest = start.getData()\n",
    "            start = start.getNextNode()\n",
    "        return largest\n",
    "\n",
    "    # method returns minimum element of Linked list\n",
    "    def Min(self):\n",
    "        start = self.head\n",
    "        smallest = start.getData()\n",
    "        while start:\n",
    "            if smallest > start.getData():\n",
    "                smallest = start.getData()\n",
    "            start = start.getNextNode()\n",
    "        return smallest\n",
    "\n",
    "    # method pushes element to the Linked List\n",
    "    def push(self, data):\n",
    "        self.addToEnd(data)\n",
    "        return True\n",
    "\n",
    "    # method removes and returns the last element from the Linked List\n",
    "    def pop(self):\n",
    "        start = self.head\n",
    "        previous = None\n",
    "\n",
    "        while start.getNextNode():\n",
    "            previous = start\n",
    "            start = start.getNextNode()\n",
    "\n",
    "        if previous is None:\n",
    "            self.head = None\n",
    "        else:\n",
    "            previous.setLink(None)\n",
    "            data = start.getData()\n",
    "            del start\n",
    "            return data\n",
    "\n",
    "\n",
    "    # method returns the element at given position\n",
    "    def atIndex(self, position):\n",
    "        start = self.head\n",
    "        position = int(position)\n",
    "        pos = 1\n",
    "        while pos != position:\n",
    "            start = start.getNextNode()\n",
    "            pos += 1\n",
    "\n",
    "        data = start.getData()\n",
    "        return data\n",
    "\n",
    "    # method returns a copy of the current Linked List\n",
    "    def copy(self):\n",
    "        temp = LinkedList()\n",
    "        start = self.head\n",
    "\n",
    "        temp.addToStart(start.getData())\n",
    "        start = start.getNextNode()\n",
    "\n",
    "        while start:\n",
    "            temp.addToEnd(start.getData())\n",
    "            start = start.getNextNode()\n",
    "\n",
    "        return temp\n",
    "\n",
    "    # method to clear LinkedList\n",
    "    def clear(self):\n",
    "        self.head = None\n",
    "        return True\n",
    "\n",
    "    # method returns and removes element at recieved position\n",
    "    def removePosition(self, position):\n",
    "        data = self.atIndex(position)\n",
    "        self.remove(data)\n",
    "        return data\n",
    "\n",
    "    # method returns string of elements of Linked list\n",
    "    # the Elements are seperated by seperator if passed else all elements are appended\n",
    "    def toString(self, seperator=\"\"):\n",
    "        start = self.head\n",
    "        finalString = \"\"\n",
    "        while start:\n",
    "            tempString = start.getData()\n",
    "            finalString += str(tempString)\n",
    "            start = start.getNextNode()\n",
    "\n",
    "            # if next node exists only the append seperator\n",
    "            if start:\n",
    "                finalString += seperator\n",
    "\n",
    "        return finalString\n",
    "\n",
    "    # method returns count of Element recieved\n",
    "    def count(self, element):\n",
    "        start = self.head\n",
    "        count1 = 0\n",
    "        while start:\n",
    "            if start.getData() == element:\n",
    "                count1 += 1\n",
    "            start = start.getNextNode()\n",
    "        return count1\n",
    "\n",
    "    # method returns builtin List of python consisting of Elements of LinkedList\n",
    "    def toList(self):\n",
    "        start = self.head\n",
    "        tempList = []\n",
    "        while start:\n",
    "            tempElement = start.getData()\n",
    "            tempList.append(tempElement)\n",
    "            start = start.getNextNode()\n",
    "        return tempList\n",
    "\n",
    "        # method returns builtin List of python consisting of Elements of LinkedList\n",
    "\n",
    "    # method returns builtin Set of python consisting of Elements of LinkedList\n",
    "    def toSet(self):\n",
    "        start = self.head\n",
    "        tempSet = set()\n",
    "        while start:\n",
    "            tempElement = start.getData()\n",
    "            if tempElement not in tempSet:\n",
    "                tempSet.add(tempElement)\n",
    "            start = start.getNextNode()\n",
    "        return tempSet\n",
    "\n",
    "    # method reverses the LinkedList\n",
    "    def reverse(self):\n",
    "        start = self.head\n",
    "        tempNode = None\n",
    "        previousNode = None\n",
    "\n",
    "        while start:\n",
    "            tempNode = start.getNextNode()\n",
    "            start.setLink(previousNode)\n",
    "            previousNode = start\n",
    "            start = tempNode\n",
    "\n",
    "        self.head = previousNode\n",
    "        return True\n",
    "\n",
    "    # method that sorts LinkedList\n",
    "    def sort(self):\n",
    "        start = self.head\n",
    "        beginNode = start\n",
    "        while beginNode:\n",
    "            tempNode = beginNode\n",
    "            tempNode2 = beginNode\n",
    "            smallest = beginNode.getData()\n",
    "            while tempNode:\n",
    "                if smallest > tempNode.getData():\n",
    "                    smallest = tempNode.getData()\n",
    "                    tempNode2 = tempNode\n",
    "                tempNode = tempNode.getNextNode()\n",
    "\n",
    "            # swap data of beginNode and tempNode2\n",
    "            temp = beginNode.getData()\n",
    "            beginNode.updateData(tempNode2.getData())\n",
    "            tempNode2.updateData(temp)\n",
    "\n",
    "            beginNode = beginNode.getNextNode()\n",
    "\n",
    "    # method returns new instance of the sorted LinkedList without changing original LinkedList\n",
    "    def sorted(self):\n",
    "        start = self.head\n",
    "        tempList = self.copy()\n",
    "        tempList.sort()\n",
    "        return tempList"
   ]
  },
  {
   "cell_type": "code",
   "execution_count": 3,
   "metadata": {},
   "outputs": [],
   "source": [
    "list1=LinkedList()\n",
    "list2=LinkedList()"
   ]
  },
  {
   "cell_type": "code",
   "execution_count": 4,
   "metadata": {},
   "outputs": [
    {
     "data": {
      "text/plain": [
       "True"
      ]
     },
     "execution_count": 4,
     "metadata": {},
     "output_type": "execute_result"
    }
   ],
   "source": [
    "list1.addToStart('Tom')\n",
    "list1.addToEnd('George')\n",
    "list1.addToEnd('Peter')\n",
    "list1.addToEnd('Jean')\n",
    "list1.addToEnd('Jane')"
   ]
  },
  {
   "cell_type": "code",
   "execution_count": 5,
   "metadata": {},
   "outputs": [
    {
     "name": "stdout",
     "output_type": "stream",
     "text": [
      "Tom --> George --> Peter --> Jean --> Jane \n"
     ]
    }
   ],
   "source": [
    "list1.display()"
   ]
  },
  {
   "cell_type": "code",
   "execution_count": 6,
   "metadata": {},
   "outputs": [
    {
     "data": {
      "text/plain": [
       "True"
      ]
     },
     "execution_count": 6,
     "metadata": {},
     "output_type": "execute_result"
    }
   ],
   "source": [
    "list2.addToStart('Tom')\n",
    "list2.addToEnd('George')\n",
    "list2.addToEnd('Michael')\n",
    "list2.addToEnd('Michelle')\n",
    "list2.addToEnd('Daniel')"
   ]
  },
  {
   "cell_type": "code",
   "execution_count": 7,
   "metadata": {},
   "outputs": [
    {
     "name": "stdout",
     "output_type": "stream",
     "text": [
      "Tom --> George --> Michael --> Michelle --> Daniel \n"
     ]
    }
   ],
   "source": [
    "list2.display()"
   ]
  },
  {
   "cell_type": "code",
   "execution_count": 8,
   "metadata": {},
   "outputs": [
    {
     "data": {
      "text/plain": [
       "True"
      ]
     },
     "execution_count": 8,
     "metadata": {},
     "output_type": "execute_result"
    }
   ],
   "source": [
    "list1.addAll(list2)"
   ]
  },
  {
   "cell_type": "code",
   "execution_count": 9,
   "metadata": {},
   "outputs": [
    {
     "name": "stdout",
     "output_type": "stream",
     "text": [
      "Tom --> George --> Peter --> Jean --> Jane --> Michael --> Michelle --> Daniel \n"
     ]
    }
   ],
   "source": [
    "list1.display()"
   ]
  },
  {
   "cell_type": "code",
   "execution_count": 10,
   "metadata": {},
   "outputs": [
    {
     "name": "stdout",
     "output_type": "stream",
     "text": [
      "Peter --> Jean --> Jane \n"
     ]
    }
   ],
   "source": [
    "list1.removeAll(list2)\n",
    "list1.display()"
   ]
  },
  {
   "cell_type": "code",
   "execution_count": 11,
   "metadata": {},
   "outputs": [
    {
     "name": "stdout",
     "output_type": "stream",
     "text": [
      "Peter --> Jean --> Jane --> Tom --> George --> Michael --> Michelle --> Daniel \n"
     ]
    }
   ],
   "source": [
    "list1.retainAll(list2)\n",
    "list1.display()"
   ]
  },
  {
   "cell_type": "code",
   "execution_count": null,
   "metadata": {},
   "outputs": [],
   "source": []
  }
 ],
 "metadata": {
  "interpreter": {
   "hash": "c95561b1b6268700c3c15b0a58abf1fc0d62c30699dae144aa281fc4939ca064"
  },
  "kernelspec": {
   "display_name": "Python 3.8.8 ('base')",
   "language": "python",
   "name": "python3"
  },
  "language_info": {
   "codemirror_mode": {
    "name": "ipython",
    "version": 3
   },
   "file_extension": ".py",
   "mimetype": "text/x-python",
   "name": "python",
   "nbconvert_exporter": "python",
   "pygments_lexer": "ipython3",
   "version": "3.8.8"
  },
  "orig_nbformat": 4
 },
 "nbformat": 4,
 "nbformat_minor": 2
}
